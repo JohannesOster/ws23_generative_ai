{
 "cells": [
  {
   "cell_type": "markdown",
   "id": "fd2d3a18-bfd2-4a7c-b98d-197ea4fd09de",
   "metadata": {},
   "source": [
    "### 2023.10.19 - Introduction to Transformers | Homework 1\n",
    "In this exercise, you will implement your own character-based Tokenizer as well as an Embedding layer from scratch.\n",
    "\n",
    "_Task 1: Character-based Tokenizer:_\n",
    "- Implement a basic character-based tokenizer. Ensure to include a special <UNK> (\"unknown\") token to handle characters outside your vocabulary.\n",
    "  - The tokenizer should be capable of:\n",
    "    - Parsing a string into a list of characters.\n",
    "    - Encoding a list of characters into their corresponding indices in the vocabulary.\n",
    "    - Decoding a list of indices back into a string.\n",
    "    - When encoding, return the token ID for <UNK> for any character not in the vocabulary. Similarly, when decoding, return the <UNK> token for any unknown token ID.\n",
    "- Initialize your vocabulary with a list of unique characters. Consider common punctuation, numbers, and alphabets for a start. Your initial vocabulary should at least include lowercase English alphabets (a-z), digits (0-9), and common punctuation marks (e.g., ., !, ?).\n",
    "\n",
    "_Task 2 - Embedding Layer:_\n",
    "- Implement embedding layer from scratch. This layer should be able to:\n",
    "    - Initialize an embedding table with random values.\n",
    "    - Look up and return embeddings for a given list of indices.\n",
    "    - Handle potential out-of-bounds errors when looking up embeddings.\n"
   ]
  },
  {
   "cell_type": "code",
   "execution_count": 23,
   "id": "af6d0e24-537c-4c11-bb0b-36e89d209295",
   "metadata": {},
   "outputs": [],
   "source": [
    "import torch\n",
    "from torch import Tensor\n",
    "from typing import List, Iterator"
   ]
  },
  {
   "cell_type": "code",
   "execution_count": 3,
   "id": "ae1d01c0-25ac-457a-89cf-c6eb63e9bef5",
   "metadata": {},
   "outputs": [],
   "source": [
    "class Tokenizer:\n",
    "    def __init__(self, vocab: List[str]):\n",
    "        # Add <UNK> token if it's not already in the vocabulary\n",
    "        pass\n",
    "\n",
    "    def parse(self, input: str) -> List[str]:\n",
    "        \"\"\"Convert a string to a list of characters.\"\"\"\n",
    "        pass\n",
    "\n",
    "    def encode(self, tokens: List[str]) -> List[int]:\n",
    "        \"\"\"Encode a list of tokens into their corresponding indices.\"\"\"\n",
    "        pass\n",
    "\n",
    "    def decode(self, indices: List[int]) -> str:\n",
    "        \"\"\"Decode a list of indices back into a string.\"\"\"\n",
    "        pass"
   ]
  },
  {
   "cell_type": "code",
   "execution_count": 4,
   "id": "9ce8dc52-5b66-43ad-9771-d19a5fc17412",
   "metadata": {},
   "outputs": [],
   "source": [
    "class Embedding:\n",
    "    def __init__(self, n_embd: int, d_embd: int):\n",
    "        pass\n",
    "\n",
    "    def forward(self, input: Tensor) -> Tensor:\n",
    "        \"\"\"Perform a lookup for the given indices in the embedding table.\"\"\"\n",
    "        pass\n",
    "        \n",
    "    def __call__(self, input: Tensor) -> Tensor:\n",
    "        return self.forward(input)"
   ]
  },
  {
   "cell_type": "code",
   "execution_count": 43,
   "id": "2fee195c-83c6-4a0d-b30d-8fb3ddaabee9",
   "metadata": {},
   "outputs": [],
   "source": [
    "# A helper function to assert a function call throws an exception\n",
    "def assert_raises(fn, *args, **kwargs):\n",
    "    try:\n",
    "        fn(*args, **kwargs)\n",
    "    except Exception as e:\n",
    "        print(f\"Expected error occurred: {type(e).__name__} - {e}\")\n",
    "        return\n",
    "    raise AssertionError(\"Expected error did not occur\")"
   ]
  },
  {
   "cell_type": "code",
   "execution_count": 38,
   "id": "019463a3-6e83-4737-8111-ce439c842afb",
   "metadata": {},
   "outputs": [
    {
     "name": "stdout",
     "output_type": "stream",
     "text": [
      "============ Tokenizer\n",
      "tokenizer.parse: ['c', 'a', 't', 'e', 'r', 'p', 'i', 'l', 'l', 'a', 'r']\n",
      "tokenizer.encode: [0, 0, 0, 0, 0, 0, 0, 0, 0, 0, 0]\n",
      "tokenizer.decode: <UNK><UNK><UNK><UNK><UNK><UNK><UNK><UNK><UNK><UNK><UNK>\n",
      "tokenizer.encode/decode unknown: <UNK>\n",
      "tokenizer.decode out of bounds: <UNK>\n",
      "\n",
      "============ Embedding Layer\n",
      "input (torch.Size([11])):\n",
      "tensor([0, 0, 0, 0, 0, 0, 0, 0, 0, 0, 0])\n",
      "\n",
      "embedding_layer result (torch.Size([11, 3])):\n",
      "tensor([[ 1.1413, -1.2545, -1.0531],\n",
      "        [ 1.1413, -1.2545, -1.0531],\n",
      "        [ 1.1413, -1.2545, -1.0531],\n",
      "        [ 1.1413, -1.2545, -1.0531],\n",
      "        [ 1.1413, -1.2545, -1.0531],\n",
      "        [ 1.1413, -1.2545, -1.0531],\n",
      "        [ 1.1413, -1.2545, -1.0531],\n",
      "        [ 1.1413, -1.2545, -1.0531],\n",
      "        [ 1.1413, -1.2545, -1.0531],\n",
      "        [ 1.1413, -1.2545, -1.0531],\n",
      "        [ 1.1413, -1.2545, -1.0531]])\n",
      "Expected error occurred: ValueError - Input tensor contains invalid indices for lookup table.\n"
     ]
    }
   ],
   "source": [
    "vocab = list('') # define your vocabulary here\n",
    "tokenizer = Tokenizer(vocab)\n",
    "\n",
    "print(\"============ Tokenizer\")\n",
    "# Test parsing\n",
    "tokens = tokenizer.parse('caterpillar')\n",
    "print(f\"tokenizer.parse: {tokens}\")\n",
    "\n",
    "# Test encoding\n",
    "token_ids = tokenizer.encode(tokens)\n",
    "print(f\"tokenizer.encode: {token_ids}\")\n",
    "\n",
    "# Test decoding\n",
    "print(f\"tokenizer.decode: {tokenizer.decode(token_ids)}\")\n",
    "\n",
    "# Test <UNK>\n",
    "print(f\"tokenizer.encode/decode unknown: {tokenizer.decode(tokenizer.encode(['$']))}\")\n",
    "print(f\"tokenizer.decode out of bounds: {tokenizer.decode([100])}\\n\")\n",
    "\n",
    "# Test the embedding layer\n",
    "print(\"============ Embedding Layer\")\n",
    "\n",
    "n_embd = len(vocab)\n",
    "d_embd = 3\n",
    "embedding_layer = Embedding(n_embd, d_embd)\n",
    "\n",
    "input_tensor = torch.tensor(tokenizer.encode(tokenizer.parse('caterpillar')))\n",
    "result = embedding_layer(input_tensor)\n",
    "\n",
    "print(f\"input ({input_tensor.size()}):\\n{input_tensor}\\n\")\n",
    "print(f\"embedding_layer result ({result.size()}):\\n{result}\")\n",
    "\n",
    "# Assure layer throws exception on invalid index\n",
    "assert_raises(embedding_layer, torch.tensor([n_embd]))"
   ]
  },
  {
   "cell_type": "markdown",
   "id": "2ddffaec-fc98-4edd-a429-358cd8a8147b",
   "metadata": {},
   "source": [
    "### Solution Example Simple"
   ]
  },
  {
   "cell_type": "code",
   "execution_count": 24,
   "id": "bfee1c3a-3ada-4c11-b624-a8b9757a6893",
   "metadata": {},
   "outputs": [],
   "source": [
    "import torch\n",
    "from torch import Tensor\n",
    "from typing import List, Iterator"
   ]
  },
  {
   "cell_type": "code",
   "execution_count": 39,
   "id": "e1437978-616a-48be-bef7-8cd31a297905",
   "metadata": {},
   "outputs": [],
   "source": [
    "class Tokenizer:\n",
    "    def __init__(self, vocab: List[str]):\n",
    "        # Ensure the '<UNK>' token is in the vocabulary\n",
    "        if '<UNK>' not in vocab:\n",
    "            vocab.append('<UNK>')\n",
    "\n",
    "        self.vocab = vocab\n",
    "        self.token2idx = {token: idx for idx, token in enumerate(vocab)}\n",
    "        self.idx2token = {idx: token for idx, token in enumerate(vocab)}\n",
    "\n",
    "    def parse(self, input: str) -> List[str]:\n",
    "        \"\"\"Convert a string to a list of characters.\"\"\"\n",
    "        return list(input)\n",
    "\n",
    "    def encode(self, tokens: List[str]) -> List[int]:\n",
    "        \"\"\"Encode a list of tokens into their corresponding indices.\"\"\"\n",
    "        return [self.token2idx.get(token, self.token2idx.get('<UNK>', None)) for token in tokens]\n",
    "\n",
    "    def decode(self, indices: List[int]) -> str:\n",
    "        \"\"\"Decode a list of indices back into a string.\"\"\"\n",
    "        return ''.join([self.idx2token.get(idx, '<UNK>') for idx in indices])"
   ]
  },
  {
   "cell_type": "code",
   "execution_count": 40,
   "id": "55709c35-4e9d-46b4-8395-d510999fce4b",
   "metadata": {},
   "outputs": [],
   "source": [
    "class Embedding:\n",
    "    def __init__(self, n_embd: int, d_embd: int):\n",
    "        self.lookup = torch.randn(n_embd, d_embd)\n",
    "\n",
    "    def forward(self, input: Tensor) -> Tensor:\n",
    "        \"\"\"Perform a lookup for the given indices in the embedding table.\"\"\"\n",
    "        if input.max() >= self.lookup.size(0) or input.min() < 0:\n",
    "            raise ValueError(\"Input tensor contains invalid indices for lookup table.\")\n",
    "        return self.lookup[input,:]\n",
    "        \n",
    "    def __call__(self, input: Tensor) -> Tensor:\n",
    "        return self.forward(input)"
   ]
  },
  {
   "cell_type": "code",
   "execution_count": 42,
   "id": "0f7ab79b-11a6-4ea1-9ed9-1db50fb5e3f9",
   "metadata": {},
   "outputs": [
    {
     "name": "stdout",
     "output_type": "stream",
     "text": [
      "============ Tokenizer\n",
      "tokenizer.parse: ['c', 'a', 't', 'e', 'r', 'p', 'i', 'l', 'l', 'a', 'r', '!']\n",
      "tokenizer.encode: [28, 26, 45, 30, 43, 41, 34, 37, 37, 26, 43, 53]\n",
      "tokenizer.decode: caterpillar!\n",
      "tokenizer.encode/decode unknown: <UNK>\n",
      "tokenizer.decode out of bounds: <UNK>\n",
      "\n",
      "============ Embedding Layer\n",
      "input (torch.Size([11])):\n",
      "tensor([28, 26, 45, 30, 43, 41, 34, 37, 37, 26, 43])\n",
      "\n",
      "embedding_layer result (torch.Size([11, 3])):\n",
      "tensor([[-5.1405e-01,  2.7522e+00, -4.2396e-01],\n",
      "        [-8.2343e-02, -7.0187e-02,  7.0366e-01],\n",
      "        [ 7.0164e-01,  1.2855e+00, -1.2115e+00],\n",
      "        [-2.6335e-01,  3.0554e-01,  1.9410e-01],\n",
      "        [-7.7179e-01,  6.3235e-01, -3.4200e-01],\n",
      "        [ 9.2339e-01, -2.9262e-01,  4.7156e-01],\n",
      "        [-3.8477e-02,  6.6269e-01, -1.0486e+00],\n",
      "        [ 1.9154e-01, -2.1600e-03, -5.6658e-01],\n",
      "        [ 1.9154e-01, -2.1600e-03, -5.6658e-01],\n",
      "        [-8.2343e-02, -7.0187e-02,  7.0366e-01],\n",
      "        [-7.7179e-01,  6.3235e-01, -3.4200e-01]])\n",
      "Expected error occurred: ValueError - Input tensor contains invalid indices for lookup table.\n"
     ]
    }
   ],
   "source": [
    "vocab = list(\"ABCDEFGHIJKLMNOPQRSTUVWXYZabcdefghijklmnopqrstuvwxyz,!.;?\")\n",
    "tokenizer = Tokenizer(vocab)\n",
    "\n",
    "print(\"============ Tokenizer\")\n",
    "# Test parsing\n",
    "tokens = tokenizer.parse('caterpillar!')\n",
    "print(f\"tokenizer.parse: {tokens}\")\n",
    "\n",
    "# Test encoding\n",
    "token_ids = tokenizer.encode(tokens)\n",
    "print(f\"tokenizer.encode: {token_ids}\")\n",
    "\n",
    "# Test decoding\n",
    "print(f\"tokenizer.decode: {tokenizer.decode(token_ids)}\")\n",
    "\n",
    "# Test <UNK>\n",
    "print(f\"tokenizer.encode/decode unknown: {tokenizer.decode(tokenizer.encode(['$']))}\")\n",
    "print(f\"tokenizer.decode out of bounds: {tokenizer.decode([100])}\\n\")\n",
    "\n",
    "# Test the embedding layer\n",
    "print(\"============ Embedding Layer\")\n",
    "\n",
    "n_embd = len(vocab)\n",
    "d_embd = 3\n",
    "embedding_layer = Embedding(n_embd, d_embd)\n",
    "\n",
    "input_tensor = torch.tensor(tokenizer.encode(tokenizer.parse('caterpillar')))\n",
    "result = embedding_layer(input_tensor)\n",
    "\n",
    "print(f\"input ({input_tensor.size()}):\\n{input_tensor}\\n\")\n",
    "print(f\"embedding_layer result ({result.size()}):\\n{result}\")\n",
    "\n",
    "assert_raises(embedding_layer, torch.tensor([n_embd]))"
   ]
  }
 ],
 "metadata": {
  "kernelspec": {
   "display_name": "Python 3 (ipykernel)",
   "language": "python",
   "name": "python3"
  },
  "language_info": {
   "codemirror_mode": {
    "name": "ipython",
    "version": 3
   },
   "file_extension": ".py",
   "mimetype": "text/x-python",
   "name": "python",
   "nbconvert_exporter": "python",
   "pygments_lexer": "ipython3",
   "version": "3.11.4"
  }
 },
 "nbformat": 4,
 "nbformat_minor": 5
}
