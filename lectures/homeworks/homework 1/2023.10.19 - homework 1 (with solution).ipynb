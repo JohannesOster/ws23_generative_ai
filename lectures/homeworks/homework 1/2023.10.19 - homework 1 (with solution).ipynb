{
 "cells": [
  {
   "cell_type": "markdown",
   "id": "fd2d3a18-bfd2-4a7c-b98d-197ea4fd09de",
   "metadata": {},
   "source": [
    "### 2023.10.19 - Introduction to Transformers | Homework 1\n",
    "In this exercise, you will implement your own character-based Tokenizer as well as an Embedding Layer from scratch.\n",
    "Base your code on the following skeleton code that we provide:"
   ]
  },
  {
   "cell_type": "markdown",
   "id": "176b9091-10ea-428f-92e0-147d832beef8",
   "metadata": {},
   "source": [
    "### Exercise 1 - Character-based Tokenizer:\n",
    "- Initialize your vocabulary with a list of unique characters. Consider alphabetic letters, common punctuation and numbers for a start. Your initial vocabulary should at least include lowercase English letters (a-z), digits (0-9), and common punctuation marks (e.g., ., !, ?).\n",
    "\n",
    "- Implement a basic character-based tokenizer. Ensure to include a special $<UNK>$ (\"unknown\") token to handle characters outside your vocabulary.\n",
    "  - The tokenizer should be capable of:\n",
    "    - Parsing a string into a list of characters.\n",
    "    - Encoding a list of characters into their corresponding indices in the vocabulary.\n",
    "    - Decoding a list of indices back into a string.\n",
    "    - When encoding, return the token ID for $<UNK>$ for any character not in the vocabulary. Similarly, when decoding, return the $<UNK>$ token for any unknown token ID."
   ]
  },
  {
   "cell_type": "code",
   "execution_count": 1,
   "id": "af6d0e24-537c-4c11-bb0b-36e89d209295",
   "metadata": {},
   "outputs": [],
   "source": [
    "# Importing necessary dependencies\n",
    "from typing import List"
   ]
  },
  {
   "cell_type": "code",
   "execution_count": 5,
   "id": "4f1d2b84-ba66-40c4-99e4-ef4552403aa4",
   "metadata": {},
   "outputs": [],
   "source": [
    "vocab = list('') # define your vocabulary here"
   ]
  },
  {
   "cell_type": "code",
   "execution_count": 6,
   "id": "ae1d01c0-25ac-457a-89cf-c6eb63e9bef5",
   "metadata": {},
   "outputs": [],
   "source": [
    "class Tokenizer:\n",
    "    def __init__(self, vocab: List[str]):\n",
    "        # Add <UNK> token if it's not already in the vocabulary\n",
    "        pass # Replace \"pass\" with your own code\n",
    "\n",
    "    def parse(self, input: str) -> List[str]:\n",
    "        \"\"\"Convert a string to a list of characters.\"\"\"\n",
    "        pass # Replace \"pass\" with your own code\n",
    "\n",
    "    def encode(self, tokens: List[str]) -> List[int]:\n",
    "        \"\"\" Encode a list of tokens into their corresponding indices.\"\"\"\n",
    "        pass # Replace \"pass\" with your own code\n",
    "\n",
    "    def decode(self, indices: List[int]) -> str:\n",
    "        \"\"\"Decode a list of indices back into a string.\"\"\"\n",
    "        pass # Replace \"pass\" with your own code"
   ]
  },
  {
   "cell_type": "markdown",
   "id": "79b2881b-809c-4725-8c38-0e7280489312",
   "metadata": {},
   "source": [
    "### Run Exercise 1\n",
    "Run this cell to evaluate your implementation."
   ]
  },
  {
   "cell_type": "code",
   "execution_count": 19,
   "id": "28389ba2-4192-413d-a14a-e2e21e4e49a0",
   "metadata": {},
   "outputs": [
    {
     "name": "stdout",
     "output_type": "stream",
     "text": [
      "============ Tokenizer\n",
      "tokenizer.parse: ['c', 'a', 't', 'e', 'r', 'p', 'i', 'l', 'l', 'a', 'r', '!']\n",
      "tokenizer.encode: [28, 26, 45, 30, 43, 41, 34, 37, 37, 26, 43, 53]\n",
      "tokenizer.decode: caterpillar!\n",
      "tokenizer.encode/decode unknown: <UNK>\n",
      "tokenizer.decode out of bounds: <UNK>\n",
      "\n"
     ]
    }
   ],
   "source": [
    "\"\"\"\n",
    "Expected Output:\n",
    "============ Tokenizer\n",
    "tokenizer.parse: ['c', 'a', 't', 'e', 'r', 'p', 'i', 'l', 'l', 'a', 'r', '!']\n",
    "tokenizer.encode: [28, 26, 45, 30, 43, 41, 34, 37, 37, 26, 43, 53] # these numbers will be different\n",
    "tokenizer.decode: caterpillar!\n",
    "tokenizer.encode/decode unknown: <UNK> # This will be different if you choose to use a different <UNK> token\n",
    "tokenizer.decode out of bounds: <UNK>  # This will be different if you choose to use a different <UNK> token\n",
    "\"\"\"\n",
    "\n",
    "tokenizer = Tokenizer(vocab)\n",
    "\n",
    "print(\"============ Tokenizer\")\n",
    "# Test parsing\n",
    "tokens = tokenizer.parse('caterpillar!')\n",
    "print(f\"tokenizer.parse: {tokens}\")\n",
    "\n",
    "# Test encoding\n",
    "token_ids = tokenizer.encode(tokens)\n",
    "print(f\"tokenizer.encode: {token_ids}\")\n",
    "\n",
    "# Test decoding\n",
    "print(f\"tokenizer.decode: {tokenizer.decode(token_ids)}\")\n",
    "\n",
    "# Test <UNK>\n",
    "print(f\"tokenizer.encode/decode unknown: {tokenizer.decode(tokenizer.encode(['$']))}\")\n",
    "print(f\"tokenizer.decode out of bounds: {tokenizer.decode([100])}\\n\")"
   ]
  },
  {
   "cell_type": "markdown",
   "id": "ebb52802-4d2f-4215-a3c2-e1911f371a99",
   "metadata": {},
   "source": [
    "### Excercise 2 -  Embedding Layer:\n",
    "- Implement an embedding layer from scratch. This layer should be able to:\n",
    "    - Initialize an embedding table with random values.\n",
    "    - Look up and return embeddings for a given list of indices.\n",
    "    - Handle potential out-of-bounds errors when looking up embeddings."
   ]
  },
  {
   "cell_type": "code",
   "execution_count": 26,
   "id": "b9b8af91-d0d6-4cbd-a8ce-55e1c7e75ffd",
   "metadata": {},
   "outputs": [],
   "source": [
    "import torch\n",
    "from torch import Tensor"
   ]
  },
  {
   "cell_type": "code",
   "execution_count": 27,
   "id": "9ce8dc52-5b66-43ad-9771-d19a5fc17412",
   "metadata": {},
   "outputs": [],
   "source": [
    "class Embedding:\n",
    "    def __init__(self, n_embd: int, d_embd: int):\n",
    "        pass # Replace \"pass\" with your own code. You might use torch.randn\n",
    "\n",
    "    def forward(self, input: Tensor) -> Tensor:\n",
    "        \"\"\"Perform a lookup for the given indices in the embedding table.\"\"\"\n",
    "        pass # Replace \"pass\" with your own code\n",
    "\n",
    "    def __call__(self, input: Tensor) -> Tensor:\n",
    "        # This function lets you call a class instance as a function e.g. Embedding(n_embd, d_emdb)(x)\n",
    "        # https://docs.python.org/3/reference/datamodel.html#object.__call__\n",
    "        return self.forward(input)"
   ]
  },
  {
   "cell_type": "markdown",
   "id": "0e3601c8-5d07-4d72-b57d-5c4b55203411",
   "metadata": {},
   "source": [
    "### Run Exercise 2\n",
    "Run these cells to evaluate your implementation."
   ]
  },
  {
   "cell_type": "code",
   "execution_count": 5,
   "id": "2fee195c-83c6-4a0d-b30d-8fb3ddaabee9",
   "metadata": {},
   "outputs": [],
   "source": [
    "# A helper function to assert a function call throws an exception\n",
    "def assert_raises(fn, *args, **kwargs):\n",
    "    try:\n",
    "        fn(*args, **kwargs)\n",
    "    except Exception as e:\n",
    "        print(f\"Expected error occurred: {type(e).__name__} - {e}\")\n",
    "        return\n",
    "    raise AssertionError(\"Expected error did not occur\")"
   ]
  },
  {
   "cell_type": "code",
   "execution_count": 17,
   "id": "019463a3-6e83-4737-8111-ce439c842afb",
   "metadata": {},
   "outputs": [
    {
     "name": "stdout",
     "output_type": "stream",
     "text": [
      "============ Embedding Layer\n",
      "input (torch.Size([11])):\n",
      "tensor([28, 26, 45, 30, 43, 41, 34, 37, 37, 26, 43])\n",
      "\n",
      "embedding_layer result (torch.Size([11, 3])):\n",
      "tensor([[-0.8513,  0.9118, -1.2072],\n",
      "        [ 0.3272,  1.3641,  1.9445],\n",
      "        [ 0.9278,  0.8449, -1.0015],\n",
      "        [-1.3227,  0.8415,  0.4359],\n",
      "        [-0.3983,  0.0076, -0.0110],\n",
      "        [-0.6541, -0.6403,  0.2624],\n",
      "        [-0.6808, -1.1272, -0.9334],\n",
      "        [ 1.0041,  0.1958,  1.0483],\n",
      "        [ 1.0041,  0.1958,  1.0483],\n",
      "        [ 0.3272,  1.3641,  1.9445],\n",
      "        [-0.3983,  0.0076, -0.0110]])\n",
      "Expected error occurred: ValueError - Input tensor contains invalid indices for lookup table.\n"
     ]
    }
   ],
   "source": [
    "\"\"\"\n",
    "Expected Output:\n",
    "\n",
    "============ Embedding Layer\n",
    "input (torch.Size([11])):\n",
    "tensor([28, 26, 45, 30, 43, 41, 34, 37, 37, 26, 43]) # these numbers will be different\n",
    "\n",
    "embedding_layer result (torch.Size([11, 3])):  # these numbers will be different, depending on your vocab size\n",
    "tensor([[-0.0748,  0.5664, -0.6240], # all of the following numbers will be different and also different per run\n",
    "        [-1.9658, -0.7646, -0.4583],\n",
    "        [ 1.1624,  0.8075, -0.5995],\n",
    "        [ 0.4513, -0.0109,  0.2278],\n",
    "        [-1.2602, -0.8705, -0.0846],\n",
    "        [ 0.3563,  0.4905,  0.5740],\n",
    "        [ 0.5596,  0.3183, -2.2232],\n",
    "        [-0.2117, -0.0676,  1.6243],\n",
    "        [-0.2117, -0.0676,  1.6243],\n",
    "        [-1.9658, -0.7646, -0.4583],\n",
    "        [-1.2602, -0.8705, -0.0846]])\n",
    "Expected error occurred: ValueError - Input tensor contains invalid indices for lookup table. # The string will depend on which error you throw\n",
    "\"\"\"\n",
    "print(\"============ Embedding Layer\")\n",
    "n_embd = len(vocab)\n",
    "d_embd = 3\n",
    "embedding_layer = Embedding(n_embd, d_embd)\n",
    "\n",
    "input_tensor = torch.tensor(tokenizer.encode(tokenizer.parse('caterpillar')))\n",
    "result = embedding_layer(input_tensor)\n",
    "\n",
    "print(f\"input ({input_tensor.size()}):\\n{input_tensor}\\n\")\n",
    "print(f\"embedding_layer result ({result.size()}):\\n{result}\")\n",
    "\n",
    "# Assure layer throws exception on invalid index\n",
    "assert_raises(embedding_layer, torch.tensor([n_embd]))"
   ]
  },
  {
   "cell_type": "markdown",
   "id": "2ddffaec-fc98-4edd-a429-358cd8a8147b",
   "metadata": {},
   "source": [
    "# Example Solution\n",
    "This will not be provided to the students."
   ]
  },
  {
   "cell_type": "code",
   "execution_count": 1,
   "id": "bfee1c3a-3ada-4c11-b624-a8b9757a6893",
   "metadata": {},
   "outputs": [],
   "source": [
    "import torch\n",
    "from torch import Tensor\n",
    "from typing import List"
   ]
  },
  {
   "cell_type": "code",
   "execution_count": 2,
   "id": "46493699-b5ac-402f-9623-4801696917a6",
   "metadata": {},
   "outputs": [],
   "source": [
    "vocab = list(\"ABCDEFGHIJKLMNOPQRSTUVWXYZabcdefghijklmnopqrstuvwxyz,!.;?\")"
   ]
  },
  {
   "cell_type": "code",
   "execution_count": 3,
   "id": "e1437978-616a-48be-bef7-8cd31a297905",
   "metadata": {},
   "outputs": [],
   "source": [
    "class Tokenizer:\n",
    "    def __init__(self, vocab: List[str]):\n",
    "        # Ensure the '<UNK>' token is in the vocabulary\n",
    "        if '<UNK>' not in vocab:\n",
    "            vocab.append('<UNK>')\n",
    "\n",
    "        self.vocab = vocab\n",
    "        self.token2idx = {token: idx for idx, token in enumerate(vocab)}\n",
    "        self.idx2token = {idx: token for idx, token in enumerate(vocab)}\n",
    "\n",
    "    def parse(self, input: str) -> List[str]:\n",
    "        \"\"\"Convert a string to a list of characters.\"\"\"\n",
    "        return list(input)\n",
    "\n",
    "    def encode(self, tokens: List[str]) -> List[int]:\n",
    "        \"\"\"Encode a list of tokens into their corresponding indices.\"\"\"\n",
    "        return [self.token2idx.get(token, self.token2idx.get('<UNK>', None)) for token in tokens]\n",
    "\n",
    "    def decode(self, indices: List[int]) -> str:\n",
    "        \"\"\"Decode a list of indices back into a string.\"\"\"\n",
    "        return ''.join([self.idx2token.get(idx, '<UNK>') for idx in indices])"
   ]
  },
  {
   "cell_type": "code",
   "execution_count": 4,
   "id": "55709c35-4e9d-46b4-8395-d510999fce4b",
   "metadata": {},
   "outputs": [],
   "source": [
    "class Embedding:\n",
    "    def __init__(self, n_embd: int, d_embd: int):\n",
    "        self.lookup = torch.randn(n_embd, d_embd)\n",
    "\n",
    "    def forward(self, input: Tensor) -> Tensor:\n",
    "        \"\"\"Perform a lookup for the given indices in the embedding table.\"\"\"\n",
    "        if input.max() >= self.lookup.size(0) or input.min() < 0:\n",
    "            raise ValueError(\"Input tensor contains invalid indices for lookup table.\")\n",
    "        return self.lookup[input,:]\n",
    "        \n",
    "    def __call__(self, input: Tensor) -> Tensor:\n",
    "        return self.forward(input)"
   ]
  },
  {
   "cell_type": "code",
   "execution_count": 5,
   "id": "d9e622e2-37df-4149-bae7-447e94e1e883",
   "metadata": {},
   "outputs": [],
   "source": [
    "# A helper function to assert a function call throws an exception\n",
    "def assert_raises(fn, *args, **kwargs):\n",
    "    try:\n",
    "        fn(*args, **kwargs)\n",
    "    except Exception as e:\n",
    "        print(f\"Expected error occurred: {type(e).__name__} - {e}\")\n",
    "        return\n",
    "    raise AssertionError(\"Expected error did not occur\")"
   ]
  },
  {
   "cell_type": "code",
   "execution_count": 6,
   "id": "0f7ab79b-11a6-4ea1-9ed9-1db50fb5e3f9",
   "metadata": {},
   "outputs": [
    {
     "name": "stdout",
     "output_type": "stream",
     "text": [
      "============ Tokenizer\n",
      "tokenizer.parse: ['c', 'a', 't', 'e', 'r', 'p', 'i', 'l', 'l', 'a', 'r', '!']\n",
      "tokenizer.encode: [28, 26, 45, 30, 43, 41, 34, 37, 37, 26, 43, 53]\n",
      "tokenizer.decode: caterpillar!\n",
      "tokenizer.encode/decode unknown: <UNK>\n",
      "tokenizer.decode out of bounds: <UNK>\n",
      "\n",
      "============ Embedding Layer\n",
      "input (torch.Size([11])):\n",
      "tensor([28, 26, 45, 30, 43, 41, 34, 37, 37, 26, 43])\n",
      "\n",
      "embedding_layer result (torch.Size([11, 3])):\n",
      "tensor([[-1.9926,  0.9418, -0.1324],\n",
      "        [-0.9731, -0.9792,  1.3101],\n",
      "        [-0.8537,  0.9051,  0.8238],\n",
      "        [ 0.0737,  1.0583,  1.4128],\n",
      "        [-1.1847,  1.4029,  1.5147],\n",
      "        [-1.0453,  0.2987, -0.7288],\n",
      "        [-2.2460, -1.0628,  1.5335],\n",
      "        [ 0.2482,  2.1593,  0.7753],\n",
      "        [ 0.2482,  2.1593,  0.7753],\n",
      "        [-0.9731, -0.9792,  1.3101],\n",
      "        [-1.1847,  1.4029,  1.5147]])\n",
      "Expected error occurred: ValueError - Input tensor contains invalid indices for lookup table.\n"
     ]
    }
   ],
   "source": [
    "tokenizer = Tokenizer(vocab)\n",
    "\n",
    "print(\"============ Tokenizer\")\n",
    "# Test parsing\n",
    "tokens = tokenizer.parse('caterpillar!')\n",
    "print(f\"tokenizer.parse: {tokens}\")\n",
    "\n",
    "# Test encoding\n",
    "token_ids = tokenizer.encode(tokens)\n",
    "print(f\"tokenizer.encode: {token_ids}\")\n",
    "\n",
    "# Test decoding\n",
    "print(f\"tokenizer.decode: {tokenizer.decode(token_ids)}\")\n",
    "\n",
    "# Test <UNK>\n",
    "print(f\"tokenizer.encode/decode unknown: {tokenizer.decode(tokenizer.encode(['$']))}\")\n",
    "print(f\"tokenizer.decode out of bounds: {tokenizer.decode([100])}\\n\")\n",
    "\n",
    "# Test the embedding layer\n",
    "print(\"============ Embedding Layer\")\n",
    "\n",
    "n_embd = len(vocab)\n",
    "d_embd = 3\n",
    "embedding_layer = Embedding(n_embd, d_embd)\n",
    "\n",
    "input_tensor = torch.tensor(tokenizer.encode(tokenizer.parse('caterpillar')))\n",
    "result = embedding_layer(input_tensor)\n",
    "\n",
    "print(f\"input ({input_tensor.size()}):\\n{input_tensor}\\n\")\n",
    "print(f\"embedding_layer result ({result.size()}):\\n{result}\")\n",
    "\n",
    "assert_raises(embedding_layer, torch.tensor([n_embd]))"
   ]
  }
 ],
 "metadata": {
  "kernelspec": {
   "display_name": "Python 3 (ipykernel)",
   "language": "python",
   "name": "python3"
  },
  "language_info": {
   "codemirror_mode": {
    "name": "ipython",
    "version": 3
   },
   "file_extension": ".py",
   "mimetype": "text/x-python",
   "name": "python",
   "nbconvert_exporter": "python",
   "pygments_lexer": "ipython3",
   "version": "3.11.4"
  }
 },
 "nbformat": 4,
 "nbformat_minor": 5
}
